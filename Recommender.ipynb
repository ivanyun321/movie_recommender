{
 "cells": [
  {
   "cell_type": "code",
   "execution_count": 49,
   "id": "05aa8a07-272e-4c10-8e59-389bb35719c8",
   "metadata": {},
   "outputs": [],
   "source": [
    "import pandas as pd\n",
    "from sklearn.feature_extraction.text import TfidfVectorizer\n",
    "import matplotlib.pyplot as plt\n",
    "import numpy as np\n",
    "from sklearn.metrics.pairwise import cosine_similarity\n",
    "from utils import *"
   ]
  },
  {
   "cell_type": "code",
   "execution_count": 51,
   "id": "8520171a-dd2b-4371-897a-e8dd1b82181c",
   "metadata": {},
   "outputs": [
    {
     "name": "stderr",
     "output_type": "stream",
     "text": [
      "/var/folders/mx/zvd2kjjx4z704zflxmthfp380000gn/T/ipykernel_97077/1377985770.py:1: DtypeWarning: Columns (5) have mixed types. Specify dtype option on import or set low_memory=False.\n",
      "  df_merged = pd.read_csv('df_merged.csv')\n"
     ]
    }
   ],
   "source": [
    "df_merged = pd.read_csv('df_merged.csv')"
   ]
  },
  {
   "cell_type": "code",
   "execution_count": 54,
   "id": "74b25d26-f374-448f-aee0-04515f31a43d",
   "metadata": {},
   "outputs": [],
   "source": [
    "tfidf_vectorizer = TfidfVectorizer(stop_words='english')\n",
    "tfidf_matrix = tfidf_vectorizer.fit_transform(df_merged['genres_str'])"
   ]
  },
  {
   "cell_type": "code",
   "execution_count": 55,
   "id": "ab52fc51-6457-4a5d-b2da-e9c1570f9970",
   "metadata": {},
   "outputs": [
    {
     "name": "stdout",
     "output_type": "stream",
     "text": [
      "                                      primaryTitle startYear  weightedRating\n",
      "529021  Attack on Titan the Movie: The Last Attack      2024        9.007092\n",
      "207815                             The Dark Knight      2008        8.999054\n",
      "145777         Ramayana: The Legend of Prince Rama      1993        8.930293\n",
      "307212                                   Inception      2010        8.799010\n",
      "217663                                Interstellar      2014        8.698906\n"
     ]
    }
   ],
   "source": [
    "import numpy as np\n",
    "\n",
    "def get_recommendations_by_weighted_rating(movie_title, df, tfidf_matrix, content_threshold=0.1, top_n=5):\n",
    "    \"\"\"\n",
    "    Recommend movies that are both similar in content and have high weighted ratings.\n",
    "    \n",
    "    Parameters:\n",
    "      movie_title (str): The title of the movie to base recommendations on.\n",
    "      df (DataFrame): Merged DataFrame containing movies with 'primaryTitle', 'weightedRating', etc.\n",
    "      tfidf_matrix (sparse matrix): TF-IDF feature matrix computed from movie features.\n",
    "      content_threshold (float): A lower bound for content similarity to consider a movie similar.\n",
    "      top_n (int): Number of recommendations to return.\n",
    "      \n",
    "    Returns:\n",
    "      DataFrame: Recommended movies sorted by weighted rating.\n",
    "    \"\"\"\n",
    "    # Find the movie index\n",
    "    indices = df.index[df['primaryTitle'] == movie_title].tolist()\n",
    "    if not indices:\n",
    "        print(\"Movie not found.\")\n",
    "        return None\n",
    "    movie_index = indices[0]\n",
    "    \n",
    "    # Get the query movie's TF-IDF vector\n",
    "    query_vector = tfidf_matrix[movie_index]\n",
    "    \n",
    "    # Compute cosine similarities (assumes tfidf_matrix rows are L2-normalized)\n",
    "    content_similarities = (tfidf_matrix @ query_vector.T).toarray().ravel()\n",
    "    \n",
    "    # Filter out movies that are not similar enough by content\n",
    "    similar_mask = content_similarities >= content_threshold\n",
    "    \n",
    "    # Get candidate movies that pass the content similarity threshold (and exclude the queried movie)\n",
    "    candidate_indices = np.where(similar_mask)[0]\n",
    "    candidate_indices = candidate_indices[candidate_indices != movie_index]\n",
    "    \n",
    "    if candidate_indices.size == 0:\n",
    "        print(\"No similar movies found based on content.\")\n",
    "        return None\n",
    "    \n",
    "    # For the candidate movies, extract the weighted ratings\n",
    "    candidate_df = df.iloc[candidate_indices].copy()\n",
    "    candidate_df['content_similarity'] = content_similarities[candidate_indices]\n",
    "    \n",
    "    # Now, re-rank candidates solely based on weightedRating (or a combination if you want)\n",
    "    candidate_df = candidate_df.sort_values('weightedRating', ascending=False)\n",
    "    \n",
    "    # Return the top_n recommendations\n",
    "    return candidate_df.head(top_n)[['primaryTitle', 'startYear', 'weightedRating']]\n",
    "\n",
    "# Example usage:\n",
    "recommendations = get_recommendations_by_weighted_rating(\"The Matrix\", df_merged, tfidf_matrix, content_threshold=0.1, top_n=5)\n",
    "print(recommendations)\n"
   ]
  },
  {
   "cell_type": "code",
   "execution_count": null,
   "id": "f5753dbc-38d0-4aa2-989a-f959d135d3e0",
   "metadata": {},
   "outputs": [],
   "source": []
  }
 ],
 "metadata": {
  "kernelspec": {
   "display_name": "Python 3 (ipykernel)",
   "language": "python",
   "name": "python3"
  },
  "language_info": {
   "codemirror_mode": {
    "name": "ipython",
    "version": 3
   },
   "file_extension": ".py",
   "mimetype": "text/x-python",
   "name": "python",
   "nbconvert_exporter": "python",
   "pygments_lexer": "ipython3",
   "version": "3.12.4"
  }
 },
 "nbformat": 4,
 "nbformat_minor": 5
}
