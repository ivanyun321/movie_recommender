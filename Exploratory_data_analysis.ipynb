{
 "cells": [
  {
   "cell_type": "code",
   "execution_count": 15,
   "id": "74c9a668-7358-4875-88b3-1ff3fed34524",
   "metadata": {},
   "outputs": [],
   "source": [
    "import pandas as pd\n",
    "from sklearn.feature_extraction.text import TfidfVectorizer\n",
    "import matplotlib.pyplot as plt\n",
    "import numpy as np\n",
    "from sklearn.metrics.pairwise import cosine_similarity\n",
    "from utils import *"
   ]
  },
  {
   "cell_type": "code",
   "execution_count": 17,
   "id": "20e40eee-43cf-437d-8217-ff4a011657a9",
   "metadata": {},
   "outputs": [],
   "source": [
    "from config import ACCOUNT_NAME, ACCOUNT_KEY"
   ]
  },
  {
   "cell_type": "code",
   "execution_count": null,
   "id": "e1c0d5a8-9548-4890-8263-8657da3e3bfe",
   "metadata": {},
   "outputs": [
    {
     "name": "stdout",
     "output_type": "stream",
     "text": [
      "Downloaded 'title.basics.tsv.gz' from container 'movies' to 'title.basics.tsv.gz'\n",
      "Downloaded 'title.ratings.tsv.gz' from container 'movie-ratings' to 'title.ratings.tsv.gz'\n"
     ]
    }
   ],
   "source": [
    "import pandas as pd\n",
    "from azure.storage.blob import BlobServiceClient\n",
    "\n",
    "# Replace with your actual connection string from the Azure Portal\n",
    "connection_string = f\"DefaultEndpointsProtocol=https;AccountName={ACCOUNT_NAME};AccountKey={ACCOUNT_KEY};EndpointSuffix=core.windows.net\"\n",
    "\n",
    "# Define details for Blob 1 (e.g., title.basics.tsv.gz in the \"movies\" container)\n",
    "container_name1 = \"movies\"\n",
    "blob_name1 = \"title.basics.tsv.gz\"\n",
    "download_path1 = \"title.basics.tsv.gz\"  # Local file name for blob 1\n",
    "\n",
    "# Define details for Blob 2 (e.g., title.ratings.tsv.gz in the \"movies_rating\" container)\n",
    "container_name2 = \"movie-ratings\"\n",
    "blob_name2 = \"title.ratings.tsv.gz\"\n",
    "download_path2 = \"title.ratings.tsv.gz\"  # Local file name for blob 2\n",
    "\n",
    "# Create the BlobServiceClient\n",
    "blob_service_client = BlobServiceClient.from_connection_string(connection_string)\n",
    "\n",
    "# Get container clients for both containers\n",
    "container_client1 = blob_service_client.get_container_client(container_name1)\n",
    "container_client2 = blob_service_client.get_container_client(container_name2)\n",
    "\n",
    "# Download Blob 1: title.basics.tsv.gz\n",
    "with open(download_path1, \"wb\") as file1:\n",
    "    blob_data1 = container_client1.download_blob(blob_name1)\n",
    "    file1.write(blob_data1.readall())\n",
    "print(f\"Downloaded '{blob_name1}' from container '{container_name1}' to '{download_path1}'\")\n",
    "\n",
    "# Download Blob 2: title.ratings.tsv.gz\n",
    "with open(download_path2, \"wb\") as file2:\n",
    "    blob_data2 = container_client2.download_blob(blob_name2)\n",
    "    file2.write(blob_data2.readall())\n",
    "print(f\"Downloaded '{blob_name2}' from container '{container_name2}' to '{download_path2}'\")\n",
    "\n",
    "# Optionally, load the downloaded files into pandas DataFrames\n",
    "df_basics = pd.read_csv(download_path1, sep='\\t', compression='gzip', low_memory=False)\n",
    "df_ratings = pd.read_csv(download_path2, sep='\\t', compression='gzip', low_memory=False)\n",
    "\n",
    "print(\"First few rows of title.basics.tsv.gz:\")\n",
    "print(df_basics.head())\n",
    "\n",
    "print(\"First few rows of title.ratings.tsv.gz:\")\n",
    "print(df_ratings.head())\n"
   ]
  },
  {
   "cell_type": "code",
   "execution_count": null,
   "id": "c8d97c43-f83b-48d8-95dd-ae82145fc4ab",
   "metadata": {},
   "outputs": [],
   "source": [
    "df_basics.shape"
   ]
  },
  {
   "cell_type": "code",
   "execution_count": null,
   "id": "44d64242-875b-494a-bf11-f04c977374fa",
   "metadata": {},
   "outputs": [],
   "source": [
    "df_ratings.shape"
   ]
  },
  {
   "cell_type": "code",
   "execution_count": null,
   "id": "430251ef-cd45-4467-8350-0be9d9685157",
   "metadata": {},
   "outputs": [],
   "source": [
    "df_basics.info()"
   ]
  },
  {
   "cell_type": "code",
   "execution_count": null,
   "id": "fed4cd65-8345-40eb-8365-88c92408a47e",
   "metadata": {},
   "outputs": [],
   "source": [
    "df_ratings.info()"
   ]
  },
  {
   "cell_type": "code",
   "execution_count": null,
   "id": "80b75a82-5b53-4b2e-88d7-349557348c08",
   "metadata": {},
   "outputs": [],
   "source": [
    "df_basics.describe()"
   ]
  },
  {
   "cell_type": "code",
   "execution_count": null,
   "id": "db414049-faea-46ff-85c7-bf941abd9d6a",
   "metadata": {},
   "outputs": [],
   "source": [
    "df_basics.columns"
   ]
  },
  {
   "cell_type": "code",
   "execution_count": null,
   "id": "7e21531c-d6e0-4469-96ae-4a6d945d9f6c",
   "metadata": {},
   "outputs": [],
   "source": [
    "df_basics.isnull().sum()"
   ]
  },
  {
   "cell_type": "code",
   "execution_count": null,
   "id": "30823c91-fbd0-4c6b-9de8-197ab8f9b9a8",
   "metadata": {},
   "outputs": [],
   "source": [
    "df_basics[df_basics['primaryTitle'].isnull()]"
   ]
  },
  {
   "cell_type": "code",
   "execution_count": null,
   "id": "9e4b2cfc-1f9b-4f9f-81eb-648bc1256c5a",
   "metadata": {},
   "outputs": [],
   "source": [
    "df_clean = df_basics.dropna()"
   ]
  },
  {
   "cell_type": "code",
   "execution_count": null,
   "id": "371b9971-6ba3-4989-b6f0-414cab3f0f17",
   "metadata": {},
   "outputs": [],
   "source": [
    "df_clean"
   ]
  },
  {
   "cell_type": "code",
   "execution_count": null,
   "id": "5cff02db-b53f-45ec-99eb-e894f41a685c",
   "metadata": {},
   "outputs": [],
   "source": [
    "df_copy = df_clean.copy()\n",
    "df_copy['startYear'] = pd.to_numeric(df_clean['startYear'], errors='coerce')\n",
    "df_copy.dropna(subset=['startYear'], inplace=True)  # remove rows where startYear couldn't be converted\n",
    "df_copy['startYear'] = df_copy['startYear'].astype(int)  # if you want integers"
   ]
  },
  {
   "cell_type": "code",
   "execution_count": null,
   "id": "0b69c494-74e3-4340-af7f-f0ea11e1d60d",
   "metadata": {},
   "outputs": [],
   "source": [
    "# Plot the distribution of movie release years\n",
    "years_range = np.arange(1874, 2032, 5)  # 2032 is exclusive so this covers 1874 to 2031\n",
    "\n",
    "year_counts = df_copy['startYear'].value_counts().sort_index()\n",
    "# Reindex the series to include every year in the specified range, filling missing values with 0\n",
    "year_counts = year_counts.reindex(years_range, fill_value=0)\n",
    "\n",
    "# Plot the bar graph\n",
    "plt.figure(figsize=(20, 6))\n",
    "ax = year_counts.plot(kind='bar', width=0.8)\n",
    "ax.set_xlabel('Year')\n",
    "ax.set_ylabel('Number of Movies')\n",
    "ax.set_title('Distribution of Movie Release Years (1874 - 2031)')\n",
    "\n",
    "# Optionally, set the x-axis limits (adjusting slightly for a clean view)\n",
    "plt.xlim(-0.5, len(years_range)-0.5)\n",
    "\n",
    "plt.tight_layout()\n",
    "plt.show()"
   ]
  },
  {
   "cell_type": "code",
   "execution_count": null,
   "id": "8acbeff7-fee7-45fa-b20d-ca721e3f2c72",
   "metadata": {},
   "outputs": [],
   "source": [
    "df_filtered = df_clean[df_clean['titleType'] == 'movie']"
   ]
  },
  {
   "cell_type": "code",
   "execution_count": null,
   "id": "b39db9d5-1614-4c09-96f7-58de32015d3d",
   "metadata": {},
   "outputs": [],
   "source": [
    "df_filtered.loc[:, 'genres_str'] = df_filtered['genres'].astype(str)"
   ]
  },
  {
   "cell_type": "code",
   "execution_count": null,
   "id": "c53e721f-411f-43eb-8783-d109576a45e4",
   "metadata": {},
   "outputs": [],
   "source": [
    "# Combine features (for instance, genres)\n",
    "df_filtered = df_filtered[df_filtered['genres_str'].notnull() & (df_filtered['genres'] != '')]\n",
    "df_filtered['combined_features'] = df_filtered['genres'].apply(lambda x: x.replace(',', ' ') if isinstance(x, str) else str(x))"
   ]
  },
  {
   "cell_type": "code",
   "execution_count": null,
   "id": "fce0cb66-4661-4e2c-a34c-0eefd8e59ea9",
   "metadata": {},
   "outputs": [],
   "source": [
    "df_filtered"
   ]
  },
  {
   "cell_type": "code",
   "execution_count": null,
   "id": "a66d8cd1-3412-43f8-8ccf-51566641cb60",
   "metadata": {},
   "outputs": [],
   "source": [
    "df_ratings"
   ]
  },
  {
   "cell_type": "code",
   "execution_count": null,
   "id": "2db5e2c0-309d-41fb-b1c6-fc63ca9134ce",
   "metadata": {},
   "outputs": [],
   "source": [
    "df_merged = pd.merge(df_filtered, df_ratings, on='tconst', how='left')\n",
    "\n",
    "mean_rating = df_merged['averageRating'].astype(float).mean()\n",
    "df_merged['averageRating'] = df_merged['averageRating'].fillna(mean_rating)\n",
    "\n",
    "df_merged.head()"
   ]
  },
  {
   "cell_type": "code",
   "execution_count": null,
   "id": "e9f360dc-125a-49ce-9071-9aa85b8aea50",
   "metadata": {},
   "outputs": [],
   "source": [
    "df_merged.info()"
   ]
  },
  {
   "cell_type": "code",
   "execution_count": null,
   "id": "c252347e-b35e-4d8d-800e-2f1d1d9219d1",
   "metadata": {},
   "outputs": [],
   "source": [
    "m = 1000\n",
    "overall_mean = df_merged['averageRating'].mean()\n",
    "df_merged['weightedRating'] = df_merged.apply(lambda row: compute_weighted_rating(row, m, overall_mean), axis = 1)"
   ]
  },
  {
   "cell_type": "code",
   "execution_count": null,
   "id": "8e753948-a488-4831-a367-f5b7d014cbba",
   "metadata": {},
   "outputs": [],
   "source": [
    "df_merged.head()"
   ]
  },
  {
   "cell_type": "code",
   "execution_count": null,
   "id": "6786f40d-eed3-4408-9890-02961790ff6a",
   "metadata": {},
   "outputs": [],
   "source": [
    "df_merged.to_csv('df_merged.csv', index = False)"
   ]
  },
  {
   "cell_type": "code",
   "execution_count": null,
   "id": "6f52dad6-44e2-4c40-901b-460828703249",
   "metadata": {},
   "outputs": [],
   "source": [
    "df_merged"
   ]
  },
  {
   "cell_type": "code",
   "execution_count": null,
   "id": "b8f0eaa7-2785-4846-ba3b-74bad0223008",
   "metadata": {},
   "outputs": [],
   "source": [
    "df_merged.info()"
   ]
  },
  {
   "cell_type": "code",
   "execution_count": null,
   "id": "c4b9784d-6078-4b1b-a6ce-803027159ff2",
   "metadata": {},
   "outputs": [],
   "source": [
    "df_merged[\"primaryTitle\"] = df_merged[\"primaryTitle\"].astype(str)\n",
    "df_merged['genres_str'] = df_merged['genres_str'].astype(str)"
   ]
  },
  {
   "cell_type": "code",
   "execution_count": null,
   "id": "586ca54d-c46e-4f3b-b1ae-0cb8c50c4e51",
   "metadata": {},
   "outputs": [],
   "source": []
  }
 ],
 "metadata": {
  "kernelspec": {
   "display_name": "Python 3 (ipykernel)",
   "language": "python",
   "name": "python3"
  },
  "language_info": {
   "codemirror_mode": {
    "name": "ipython",
    "version": 3
   },
   "file_extension": ".py",
   "mimetype": "text/x-python",
   "name": "python",
   "nbconvert_exporter": "python",
   "pygments_lexer": "ipython3",
   "version": "3.12.4"
  }
 },
 "nbformat": 4,
 "nbformat_minor": 5
}
